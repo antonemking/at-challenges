{
  "nbformat": 4,
  "nbformat_minor": 0,
  "metadata": {
    "colab": {
      "provenance": [],
      "authorship_tag": "ABX9TyP7iF5Io1SUDbiGW1/IvL3t",
      "include_colab_link": true
    },
    "kernelspec": {
      "name": "python3",
      "display_name": "Python 3"
    },
    "language_info": {
      "name": "python"
    }
  },
  "cells": [
    {
      "cell_type": "markdown",
      "metadata": {
        "id": "view-in-github",
        "colab_type": "text"
      },
      "source": [
        "<a href=\"https://colab.research.google.com/github/antonemking/at-challenges/blob/challenge-0/at_sr_challenge0.ipynb\" target=\"_parent\"><img src=\"https://colab.research.google.com/assets/colab-badge.svg\" alt=\"Open In Colab\"/></a>"
      ]
    },
    {
      "cell_type": "code",
      "execution_count": null,
      "metadata": {
        "id": "lqrE2McDZe0-"
      },
      "outputs": [],
      "source": [
        "import numpy as np\n",
        "\n",
        "# Define the dimensions\n",
        "d_model = 64  # Embedding size\n",
        "seq_len = 10  # Sequence length (number of tokens)\n",
        "batch_size = 2  # Number of examples in a batch\n",
        "\n",
        "# Generate random queries, keys, and values (for simplicity, use random numbers)\n",
        "queries = np.random.rand(batch_size, seq_len, d_model)\n",
        "keys = np.random.rand(batch_size, seq_len, d_model)\n",
        "values = np.random.rand(batch_size, seq_len, d_model)\n",
        "\n",
        "print(\"Queries shape:\", queries.shape)\n",
        "print(\"Keys shape:\", keys.shape)\n",
        "print(\"Values shape:\", values.shape)"
      ]
    },
    {
      "cell_type": "code",
      "source": [
        "def scaled_dot_product_attention(query, key, value):\n",
        "    # Step 1: Calculate the dot product between query and key (transpose the key)\n",
        "    scores = np.matmul(query, key.transpose(0, 2, 1))  # Shape: (batch_size, seq_len, seq_len)\n",
        "\n",
        "    # Step 2: Scale the scores by the square root of the dimension size\n",
        "    scale_factor = np.sqrt(query.shape[-1])\n",
        "    scores /= scale_factor\n",
        "\n",
        "    # Step 3: Apply softmax to get the attention weights\n",
        "    attention_weights = np.exp(scores) / np.sum(np.exp(scores), axis=-1, keepdims=True)\n",
        "\n",
        "    # Step 4: Multiply the attention weights with the values\n",
        "    output = np.matmul(attention_weights, value)  # Shape: (batch_size, seq_len, d_model)\n",
        "\n",
        "    return output, attention_weights\n",
        "\n",
        "# Compute the output and attention weights\n",
        "output, attention_weights = scaled_dot_product_attention(queries, keys, values)\n",
        "\n",
        "print(\"Attention output shape:\", output.shape)\n",
        "print(\"Attention weights shape:\", attention_weights.shape)\n"
      ],
      "metadata": {
        "id": "j3P3ULMVa8UV"
      },
      "execution_count": null,
      "outputs": []
    },
    {
      "cell_type": "code",
      "source": [
        "import matplotlib.pyplot as plt\n",
        "import seaborn as sns\n",
        "\n",
        "# Visualize the attention weights for the first example in the batch\n",
        "plt.figure(figsize=(10, 8))\n",
        "sns.heatmap(attention_weights[0], annot=True, cmap='Blues')\n",
        "plt.title('Attention Weights for First Example in Batch')\n",
        "plt.xlabel('Key Position')\n",
        "plt.ylabel('Query Position')\n",
        "plt.show()"
      ],
      "metadata": {
        "id": "dqgk_sKga8kW"
      },
      "execution_count": null,
      "outputs": []
    },
    {
      "cell_type": "code",
      "source": [
        "print(\"Attention Output (First Example):\")\n",
        "print(output[0])  # Print the attention output for the first example in the batch"
      ],
      "metadata": {
        "id": "V6saqOT5a8w9"
      },
      "execution_count": null,
      "outputs": []
    }
  ]
}